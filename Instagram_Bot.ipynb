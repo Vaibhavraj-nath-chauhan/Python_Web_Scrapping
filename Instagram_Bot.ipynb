{
 "cells": [
  {
   "cell_type": "markdown",
   "metadata": {},
   "source": [
    "### Follower VS Following\n",
    "Instagram Bot from scratch\n",
    "<ol><li>Install Chrome Driver Which Satisfy your System (Two Extensions are given in repository, Check your About chrome section to view your chrome virsion)</li>\n",
    "    <li>Install Libraries in your system which are used in Code</li>\n",
    "    <li>If you are getting error then increase sleep time in code</li>\n",
    "    <li>Have patience</li>\n",
    "    <li>If you are not getting required output then increase value of \"o\" in code (While Loop)</li>\n",
    "    <li>After changes if you are getting error again then ask me</li> \n",
    "    <li>Install Every Required extensions and code at one place</li>\n",
    "    <li>If your net speed is slow then increase sleep time</li>\n",
    "</ol>"
   ]
  },
  {
   "cell_type": "markdown",
   "metadata": {},
   "source": [
    "Run this shell to install required libraries"
   ]
  },
  {
   "cell_type": "code",
   "execution_count": null,
   "metadata": {},
   "outputs": [],
   "source": [
    "pip install beautifulsoup  \n",
    "pip install selenium"
   ]
  },
  {
   "cell_type": "markdown",
   "metadata": {},
   "source": [
    "Main Code Starts From here"
   ]
  },
  {
   "cell_type": "code",
   "execution_count": null,
   "metadata": {},
   "outputs": [],
   "source": [
    "from selenium import webdriver\n",
    "from bs4 import BeautifulSoup\n",
    "from time import sleep\n",
    "from getpass import getpass"
   ]
  },
  {
   "cell_type": "code",
   "execution_count": null,
   "metadata": {},
   "outputs": [],
   "source": [
    "browser = webdriver.Chrome(\"chromedriver.exe\")\n",
    "browser.get(\"https://www.instagram.com/?hl=en\")\n",
    "#..............................................................................\n",
    "user = input(\"Enter User Name:-->\")\n",
    "passwd = getpass(prompt=\"Enter password\",stream=None)\n",
    "user_name = browser.find_element_by_name(\"username\")\n",
    "user_name.send_keys(user)\n",
    "password = browser.find_element_by_name(\"password\")\n",
    "password.send_keys(passwd)\n",
    "browser.find_element_by_class_name(\"Igw0E\").click()\n",
    "\n",
    "#..............................................................................\n",
    "try:\n",
    "    sleep(10)\n",
    "    browser.find_element_by_class_name(\"sqdOP \").click()\n",
    "    sleep(10)\n",
    "    try:\n",
    "        post_off = browser.find_element_by_class_name(\"HoLwm \").click()\n",
    "    except:\n",
    "        pass\n",
    "    sleep(10)\n",
    "    admin = browser.find_element_by_class_name(\"gmFkV\").click()\n",
    "\n",
    "    #..............................................................................\n",
    "    sleep(10)\n",
    "    followers = browser.find_element_by_xpath(\"//ul[@class='k9GMp ']/li[@class='Y8-fY ']/a[@class='-nal3 ']\").click()\n",
    "    o = 0\n",
    "    sleep(10)\n",
    "    \n",
    "    while True:\n",
    "        bar = browser.find_element_by_xpath('/html/body/div[4]/div/div/div[2]')\n",
    "        browser.execute_script('arguments[0].scrollTop = arguments[0].scrollHeight', bar)\n",
    "        o+=1\n",
    "        if o ==5000:   ##update if you are getting error\n",
    "            break\n",
    "    fol = browser.find_element_by_class_name(\"isgrP \")\n",
    "    data = BeautifulSoup(fol.get_attribute(\"innerHTML\"),\"html.parser\")\n",
    "    my_fol = data.find_all(\"a\")\n",
    "    k = []\n",
    "    for my in my_fol:\n",
    "        if my.text != \"\":\n",
    "            k.append(my.text)\n",
    "    browser.find_element_by_xpath(\"//div[@class='WaOAr']/button[@class='wpO6b ']\").click()\n",
    "\n",
    "    #..............................................................................\n",
    "    sleep(5)\n",
    "    following = browser.find_element_by_xpath(\"//*[@id='react-root']/section/main/div/header/section/ul/li[3]/a\").click()\n",
    "    sleep(10)\n",
    "    o = 0\n",
    "    while True:\n",
    "        bar = browser.find_element_by_xpath('/html/body/div[4]/div/div/div[2]')\n",
    "        browser.execute_script('arguments[0].scrollTop = arguments[0].scrollHeight', bar)\n",
    "        o+=1\n",
    "        if o ==5000:\n",
    "            break\n",
    "    fol_i = browser.find_element_by_class_name(\"isgrP \")\n",
    "    data_i = BeautifulSoup(fol_i.get_attribute(\"innerHTML\"),\"html.parser\")\n",
    "    i_fol = data_i.find_all(\"a\")\n",
    "    n = []\n",
    "    for i in i_fol:  \n",
    "        if i.text !=\"\":\n",
    "            n.append(i.text)\n",
    "\n",
    "    browser.find_element_by_xpath(\"/html/body/div[4]/div/div/div[1]/div/div[2]/button\").click()  \n",
    "    #.............................................................................\n",
    "    j =[]\n",
    "    for i in range(len(n)):\n",
    "        if n[i] not in k:\n",
    "            j.append(n[i])\n",
    "    print(\"\\n\\nThe Person Not Following You-->\")    \n",
    "    for i in j:\n",
    "        print(i)\n",
    "    #..............................................................................        \n",
    "    sleep(4)\n",
    "    browser.find_element_by_xpath(\"//*[@id='react-root']/section/main/div/header/section/div[1]/div[2]/button\").click()\n",
    "    #..............................................................................\n",
    "    sleep(4)\n",
    "    browser.find_element_by_xpath(\"/html/body/div[4]/div/div/div/div/button[9]\").click()\n",
    "    #..............................................................................\n",
    "    sleep(4)\n",
    "    browser.find_element_by_xpath(\"//*[@id='react-root']/section/main/article/div[2]/div[1]/div/div/div[2]/button\").click()\n",
    "    #..............................................................................\n",
    "    sleep(4)\n",
    "    browser.find_element_by_xpath(\"/html/body/div[4]/div/div/div/div[2]/button[1]\").click()\n",
    "except:\n",
    "    print(\"Enter Correct UserName and Password\")\n",
    "\n"
   ]
  },
  {
   "cell_type": "code",
   "execution_count": null,
   "metadata": {},
   "outputs": [],
   "source": []
  },
  {
   "cell_type": "code",
   "execution_count": null,
   "metadata": {},
   "outputs": [],
   "source": []
  }
 ],
 "metadata": {
  "kernelspec": {
   "display_name": "Python 3",
   "language": "python",
   "name": "python3"
  },
  "language_info": {
   "codemirror_mode": {
    "name": "ipython",
    "version": 3
   },
   "file_extension": ".py",
   "mimetype": "text/x-python",
   "name": "python",
   "nbconvert_exporter": "python",
   "pygments_lexer": "ipython3",
   "version": "3.7.6"
  }
 },
 "nbformat": 4,
 "nbformat_minor": 4
}
